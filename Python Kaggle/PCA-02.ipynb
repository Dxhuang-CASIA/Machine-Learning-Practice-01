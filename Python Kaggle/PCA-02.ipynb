{
 "cells": [
  {
   "cell_type": "code",
   "execution_count": 1,
   "metadata": {
    "collapsed": true
   },
   "outputs": [],
   "source": [
    "import numpy as np\n",
    "import pandas as pd\n",
    "from sklearn.svm import LinearSVC\n",
    "from sklearn.decomposition import PCA\n",
    "from sklearn.metrics import classification_report"
   ]
  },
  {
   "cell_type": "code",
   "execution_count": 2,
   "outputs": [],
   "source": [
    "digits_train = pd.read_csv(r'./data/optdigits/train.csv')\n",
    "digits_test = pd.read_csv(r'./data/optdigits/test.csv')"
   ],
   "metadata": {
    "collapsed": false,
    "pycharm": {
     "name": "#%%\n"
    }
   }
  },
  {
   "cell_type": "code",
   "execution_count": 3,
   "outputs": [],
   "source": [
    "X_train = digits_train.iloc[:, :-1]\n",
    "y_train = digits_train.iloc[:, -1]\n",
    "X_test = digits_test.iloc[:, : -1]\n",
    "y_test = digits_test.iloc[:, -1]"
   ],
   "metadata": {
    "collapsed": false,
    "pycharm": {
     "name": "#%%\n"
    }
   }
  },
  {
   "cell_type": "code",
   "execution_count": 4,
   "outputs": [
    {
     "name": "stderr",
     "output_type": "stream",
     "text": [
      "/Users/dexinghuang/miniforge3/envs/pycharm学习项目/lib/python3.9/site-packages/sklearn/svm/_base.py:1206: ConvergenceWarning: Liblinear failed to converge, increase the number of iterations.\n",
      "  warnings.warn(\n"
     ]
    }
   ],
   "source": [
    "svc = LinearSVC()\n",
    "svc.fit(X_train, y_train)\n",
    "y_pred = svc.predict(X_test)"
   ],
   "metadata": {
    "collapsed": false,
    "pycharm": {
     "name": "#%%\n"
    }
   }
  },
  {
   "cell_type": "code",
   "execution_count": 5,
   "outputs": [],
   "source": [
    "estimator = PCA(n_components = 20)\n",
    "pca_X_train = estimator.fit_transform(X_train)\n",
    "pca_X_test = estimator.transform(X_test)"
   ],
   "metadata": {
    "collapsed": false,
    "pycharm": {
     "name": "#%%\n"
    }
   }
  },
  {
   "cell_type": "code",
   "execution_count": 6,
   "outputs": [
    {
     "name": "stderr",
     "output_type": "stream",
     "text": [
      "/Users/dexinghuang/miniforge3/envs/pycharm学习项目/lib/python3.9/site-packages/sklearn/svm/_base.py:1206: ConvergenceWarning: Liblinear failed to converge, increase the number of iterations.\n",
      "  warnings.warn(\n"
     ]
    }
   ],
   "source": [
    "pca_svc = LinearSVC()\n",
    "pca_svc.fit(pca_X_train, y_train)\n",
    "pca_y_pred = pca_svc.predict(pca_X_test)"
   ],
   "metadata": {
    "collapsed": false,
    "pycharm": {
     "name": "#%%\n"
    }
   }
  },
  {
   "cell_type": "code",
   "execution_count": 7,
   "outputs": [
    {
     "name": "stdout",
     "output_type": "stream",
     "text": [
      "0.9343350027824151\n",
      "              precision    recall  f1-score   support\n",
      "\n",
      "           0       0.99      0.98      0.99       178\n",
      "           1       0.90      0.93      0.91       182\n",
      "           2       0.99      0.98      0.99       177\n",
      "           3       0.98      0.90      0.94       183\n",
      "           4       0.95      0.97      0.96       181\n",
      "           5       0.90      0.97      0.93       182\n",
      "           6       0.99      0.98      0.99       181\n",
      "           7       0.98      0.89      0.94       179\n",
      "           8       0.93      0.82      0.87       174\n",
      "           9       0.77      0.93      0.84       180\n",
      "\n",
      "    accuracy                           0.93      1797\n",
      "   macro avg       0.94      0.93      0.93      1797\n",
      "weighted avg       0.94      0.93      0.94      1797\n",
      "\n"
     ]
    }
   ],
   "source": [
    "print(svc.score(X_test, y_test))\n",
    "print(classification_report(y_test, y_pred, target_names = np.arange(10).astype(str)))"
   ],
   "metadata": {
    "collapsed": false,
    "pycharm": {
     "name": "#%%\n"
    }
   }
  },
  {
   "cell_type": "code",
   "execution_count": 9,
   "outputs": [
    {
     "name": "stdout",
     "output_type": "stream",
     "text": [
      "0.9159710628825821\n",
      "              precision    recall  f1-score   support\n",
      "\n",
      "           0       0.97      0.97      0.97       178\n",
      "           1       0.90      0.82      0.86       182\n",
      "           2       0.96      0.99      0.97       177\n",
      "           3       0.93      0.84      0.88       183\n",
      "           4       0.93      0.97      0.95       181\n",
      "           5       0.90      0.98      0.94       182\n",
      "           6       0.96      0.98      0.97       181\n",
      "           7       0.94      0.89      0.92       179\n",
      "           8       0.91      0.83      0.86       174\n",
      "           9       0.78      0.91      0.84       180\n",
      "\n",
      "    accuracy                           0.92      1797\n",
      "   macro avg       0.92      0.92      0.92      1797\n",
      "weighted avg       0.92      0.92      0.92      1797\n",
      "\n"
     ]
    }
   ],
   "source": [
    "print(pca_svc.score(pca_X_test, y_test))\n",
    "print(classification_report(y_test, pca_y_pred, target_names = np.arange(10).astype(str)))"
   ],
   "metadata": {
    "collapsed": false,
    "pycharm": {
     "name": "#%%\n"
    }
   }
  }
 ],
 "metadata": {
  "kernelspec": {
   "display_name": "Python 3",
   "language": "python",
   "name": "python3"
  },
  "language_info": {
   "codemirror_mode": {
    "name": "ipython",
    "version": 2
   },
   "file_extension": ".py",
   "mimetype": "text/x-python",
   "name": "python",
   "nbconvert_exporter": "python",
   "pygments_lexer": "ipython2",
   "version": "2.7.6"
  }
 },
 "nbformat": 4,
 "nbformat_minor": 0
}