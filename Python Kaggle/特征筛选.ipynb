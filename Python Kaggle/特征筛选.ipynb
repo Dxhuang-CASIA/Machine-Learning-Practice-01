{
 "cells": [
  {
   "cell_type": "code",
   "execution_count": 69,
   "metadata": {
    "collapsed": true
   },
   "outputs": [],
   "source": [
    "import pandas as pd\n",
    "import numpy as np\n",
    "import pylab as pl\n",
    "from sklearn.model_selection import train_test_split\n",
    "from sklearn.feature_extraction import DictVectorizer\n",
    "from sklearn.tree import DecisionTreeClassifier\n",
    "from sklearn import feature_selection\n",
    "from sklearn.model_selection import cross_val_score"
   ]
  },
  {
   "cell_type": "code",
   "execution_count": 50,
   "outputs": [],
   "source": [
    "titanic = pd.read_csv(r'./data/titanic/fulldata.csv')"
   ],
   "metadata": {
    "collapsed": false,
    "pycharm": {
     "name": "#%%\n"
    }
   }
  },
  {
   "cell_type": "code",
   "execution_count": 51,
   "outputs": [],
   "source": [
    "y = titanic['Survived']\n",
    "X = titanic.drop(['Name', 'Survived'], axis = 1)"
   ],
   "metadata": {
    "collapsed": false,
    "pycharm": {
     "name": "#%%\n"
    }
   }
  },
  {
   "cell_type": "code",
   "execution_count": 52,
   "outputs": [],
   "source": [
    "X['Age'].fillna(X['Age'].mean(), inplace = True)\n",
    "X.fillna('UNKNOWN', inplace = True)"
   ],
   "metadata": {
    "collapsed": false,
    "pycharm": {
     "name": "#%%\n"
    }
   }
  },
  {
   "cell_type": "code",
   "execution_count": 53,
   "outputs": [],
   "source": [
    "X_train, X_test, y_train, y_test = train_test_split(X, y, test_size = 0.25, random_state = 33)"
   ],
   "metadata": {
    "collapsed": false,
    "pycharm": {
     "name": "#%%\n"
    }
   }
  },
  {
   "cell_type": "code",
   "execution_count": 54,
   "outputs": [
    {
     "name": "stderr",
     "output_type": "stream",
     "text": [
      "/var/folders/ch/8przwvlx5kv4tbskgm9xk_fr0000gn/T/ipykernel_29553/1677337345.py:2: FutureWarning: Using short name for 'orient' is deprecated. Only the options: ('dict', list, 'series', 'split', 'records', 'index') will be used in a future version. Use one of the above to silence this warning.\n",
      "  X_train = vec.fit_transform(X_train.to_dict(orient = 'record'))\n",
      "/var/folders/ch/8przwvlx5kv4tbskgm9xk_fr0000gn/T/ipykernel_29553/1677337345.py:3: FutureWarning: Using short name for 'orient' is deprecated. Only the options: ('dict', list, 'series', 'split', 'records', 'index') will be used in a future version. Use one of the above to silence this warning.\n",
      "  X_test = vec.transform(X_test.to_dict(orient = 'record'))\n"
     ]
    }
   ],
   "source": [
    "vec = DictVectorizer()\n",
    "X_train = vec.fit_transform(X_train.to_dict(orient = 'record'))\n",
    "X_test = vec.transform(X_test.to_dict(orient = 'record'))"
   ],
   "metadata": {
    "collapsed": false,
    "pycharm": {
     "name": "#%%\n"
    }
   }
  },
  {
   "cell_type": "code",
   "execution_count": 55,
   "outputs": [
    {
     "name": "stdout",
     "output_type": "stream",
     "text": [
      "0.8628048780487805\n"
     ]
    }
   ],
   "source": [
    "dt = DecisionTreeClassifier(criterion = 'entropy')\n",
    "dt.fit(X_train, y_train)\n",
    "print(dt.score(X_test, y_test))"
   ],
   "metadata": {
    "collapsed": false,
    "pycharm": {
     "name": "#%%\n"
    }
   }
  },
  {
   "cell_type": "code",
   "execution_count": 56,
   "outputs": [
    {
     "name": "stdout",
     "output_type": "stream",
     "text": [
      "0.8201219512195121\n"
     ]
    }
   ],
   "source": [
    "# 筛选出前20%的特征\n",
    "fs = feature_selection.SelectPercentile(feature_selection.chi2, percentile = 20)\n",
    "X_train_fs = fs.fit_transform(X_train, y_train)\n",
    "dt.fit(X_train_fs, y_train)\n",
    "X_test_fs = fs.transform(X_test)\n",
    "print(dt.score(X_test_fs, y_test))"
   ],
   "metadata": {
    "collapsed": false,
    "pycharm": {
     "name": "#%%\n"
    }
   }
  },
  {
   "cell_type": "code",
   "execution_count": 77,
   "outputs": [
    {
     "name": "stdout",
     "output_type": "stream",
     "text": [
      "[0.83180358 0.83487517 0.83283435 0.83793639 0.82874754 0.82568632\n",
      " 0.83078836 0.83180358 0.84199731 0.84099244 0.84301771 0.83588522\n",
      " 0.83995131 0.84505335 0.84606858 0.83484927 0.84097172 0.85422667\n",
      " 0.85524189 0.85420595 0.85931835 0.85931835 0.86645084 0.86441521\n",
      " 0.85625194 0.86848648 0.85728271 0.87053766 0.8684813  0.86338962\n",
      " 0.86543044 0.86645084 0.87560862 0.87662903 0.87358334 0.87256811\n",
      " 0.87255257 0.87358334 0.87357816 0.87459857 0.8684554  0.87153735\n",
      " 0.87154253 0.86643531 0.87053248 0.86642495 0.86746089 0.86135916\n",
      " 0.86747125 0.8654149 ]\n"
     ]
    }
   ],
   "source": [
    "percentiles = range(1, 100, 2)\n",
    "results = []\n",
    "for i in percentiles:\n",
    "    fs = feature_selection.SelectPercentile(feature_selection.chi2, percentile = i)\n",
    "    X_train_fs = fs.fit_transform(X_train, y_train)\n",
    "    scores = cross_val_score(dt, X_train_fs, y_train, cv = 5)\n",
    "    results = np.append(results, scores.mean())\n",
    "print(results)"
   ],
   "metadata": {
    "collapsed": false,
    "pycharm": {
     "name": "#%%\n"
    }
   }
  },
  {
   "cell_type": "code",
   "execution_count": 78,
   "outputs": [
    {
     "name": "stdout",
     "output_type": "stream",
     "text": [
      "Optimal number of features 67\n"
     ]
    }
   ],
   "source": [
    "opt = int(np.where(results == results.max())[0])\n",
    "print('Optimal number of features %d' %percentiles[opt])"
   ],
   "metadata": {
    "collapsed": false,
    "pycharm": {
     "name": "#%%\n"
    }
   }
  },
  {
   "cell_type": "code",
   "execution_count": 79,
   "outputs": [
    {
     "data": {
      "text/plain": "<Figure size 432x288 with 1 Axes>",
      "image/png": "[encoded data removed]"
     },
     "metadata": {
      "needs_background": "light"
     },
     "output_type": "display_data"
    }
   ],
   "source": [
    "pl.plot(percentiles, results)\n",
    "pl.xlabel('percentiles of features')\n",
    "pl.ylabel('acc')\n",
    "pl.show()"
   ],
   "metadata": {
    "collapsed": false,
    "pycharm": {
     "name": "#%%\n"
    }
   }
  }
 ],
 "metadata": {
  "kernelspec": {
   "display_name": "Python 3",
   "language": "python",
   "name": "python3"
  },
  "language_info": {
   "codemirror_mode": {
    "name": "ipython",
    "version": 2
   },
   "file_extension": ".py",
   "mimetype": "text/x-python",
   "name": "python",
   "nbconvert_exporter": "python",
   "pygments_lexer": "ipython2",
   "version": "2.7.6"
  }
 },
 "nbformat": 4,
 "nbformat_minor": 0
}